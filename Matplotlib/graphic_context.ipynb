{
 "cells": [
  {
   "cell_type": "code",
   "execution_count": null,
   "metadata": {},
   "outputs": [],
   "source": [
    "import numpy as np\n",
    "import matplotlib.pyplot as plt"
   ]
  },
  {
   "cell_type": "code",
   "execution_count": null,
   "metadata": {},
   "outputs": [],
   "source": [
    "x = np.linspace(0, 5, 11)\n",
    "y= np.sin(x)\n",
    "y2= np.log10(x)"
   ]
  },
  {
   "cell_type": "code",
   "execution_count": null,
   "metadata": {},
   "outputs": [],
   "source": [
    "fig, axes = plt.subplots(1, 2, figsize=(10, 5))\n",
    "axes[0].plot(x, y, label='$sin(x)$')\n",
    "axes[0].set_title('y = sin(X) relationship')\n",
    "axes[0].set_xlabel('X(t)')\n",
    "axes[0].set_ylabel('Y(m)')\n",
    "axes[0].legend()\n",
    "\n",
    "axes[1].plot(x, y2, label='$log10(x)$')\n",
    "axes[1].set_title('y = log10(x) relationship')\n",
    "axes[1].set_xlabel('X(t)')\n",
    "axes[1].set_ylabel('Y(m)')\n",
    "axes[1].legend()\n"
   ]
  },
  {
   "cell_type": "code",
   "execution_count": null,
   "metadata": {},
   "outputs": [],
   "source": [
    "plt.plot(x,y, label='$sin(x)$')\n",
    "plt.title('sin(x)')\n",
    "plt.xlabel('x(t)')\n",
    "plt.ylabel('y(m)')\n",
    "plt.legend(loc=('lower left'), bbox_to_anchor=(1, 0.5))"
   ]
  }
 ],
 "metadata": {
  "kernelspec": {
   "display_name": "Python 3",
   "language": "python",
   "name": "python3"
  },
  "language_info": {
   "codemirror_mode": {
    "name": "ipython",
    "version": 3
   },
   "file_extension": ".py",
   "mimetype": "text/x-python",
   "name": "python",
   "nbconvert_exporter": "python",
   "pygments_lexer": "ipython3",
   "version": "3.8.10"
  },
  "orig_nbformat": 4,
  "vscode": {
   "interpreter": {
    "hash": "916dbcbb3f70747c44a77c7bcd40155683ae19c65e1c03b4aa3499c5328201f1"
   }
  }
 },
 "nbformat": 4,
 "nbformat_minor": 2
}
